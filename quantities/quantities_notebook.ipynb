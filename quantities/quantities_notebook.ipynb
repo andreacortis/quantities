{
 "cells": [
  {
   "cell_type": "code",
   "execution_count": 2,
   "id": "ecological-flower",
   "metadata": {},
   "outputs": [],
   "source": [
    "import numpy as np\n",
    "from typeguard import typechecked\n",
    "from decimal import Decimal\n",
    "from IPython.display import display, Latex\n",
    "import numbers\n",
    "from uncertainties import ufloat\n",
    "import uncertainties\n",
    "from pint import UnitRegistry, DimensionalityError\n",
    "ureg = UnitRegistry()\n",
    "ureg.default_format = \"~P\"\n",
    "Q_=ureg.Quantity\n",
    "from interval import interval, inf, imath\n",
    "\n",
    "esc = lambda s: s.replace('\"\\\"','\"\\\\\"')\n"
   ]
  },
  {
   "cell_type": "code",
   "execution_count": 3,
   "id": "roman-viking",
   "metadata": {},
   "outputs": [],
   "source": [
    "class Limits:\n",
    "    def __init__(self, limits):\n",
    "        lower, upper = limits\n",
    "        try:\n",
    "            assert lower.dimensionality == upper.dimensionality\n",
    "        except DimensionalityError as exc:\n",
    "            raise exc\n",
    "        try:\n",
    "            assert isinstance(lower.m, numbers.Number)\n",
    "            assert isinstance(upper.m, numbers.Number)\n",
    "        except AssertionError as e:\n",
    "            print('lower and upper limits must be integer of floats')\n",
    "            raise e\n",
    "        lower.ito_base_units()\n",
    "        upper.ito_base_units()\n",
    "        self.value = interval([lower.m, upper.m])\n",
    "        self.units = lower.units\n",
    "    \n",
    "    def __mul__(self,other):\n",
    "        if isinstance(other, numbers.Number):\n",
    "            return self.value*other\n",
    "        elif isinstance(other, Limits):\n",
    "            return self.value*other.value\n",
    "\n",
    "    def __rmul__(self,other):\n",
    "        return self.__mul__(other)\n",
    "    \n",
    "    def __truediv__(self,other):\n",
    "        if isinstance(other, numbers.Number):\n",
    "            return self.value/other\n",
    "        elif isinstance(other, Limits):\n",
    "            return self.value/other.value\n",
    "        \n",
    "    def __str__(self):\n",
    "        h = [(x[0].inf,x[0].sup) for x in self.value.components]\n",
    "        h = \"&\".join([f\"{x}\\, — {y}\" for x,y in h])\n",
    "        return h + '\\\\, '+ self.units.__str__()\n",
    "    \n",
    "    def __repr__(self):\n",
    "        s = f\"$${self.__str__()}$$\"\n",
    "        display(Latex(s))\n",
    "        return \"\"    "
   ]
  },
  {
   "cell_type": "code",
   "execution_count": 23,
   "id": "olympic-nightmare",
   "metadata": {},
   "outputs": [],
   "source": [
    "class BasicQuantity:\n",
    "    __significant_digits__ = 3\n",
    "    units = '1'\n",
    "    class_units = Q_(f\"{units}\")\n",
    "    def __init__(self, name=\"\", **kwargs):\n",
    "        c1 = set(kwargs.keys()) == {'magnitude','units'}\n",
    "        c2 = set(kwargs.keys()) == {'quantity'}\n",
    "        c3 = set(kwargs.keys()) == {'limits'}\n",
    "        self.name = name\n",
    "\n",
    "        assert c1 ^ c2 ^ c3\n",
    "        if c1:\n",
    "            magnitude = kwargs['magnitude']\n",
    "            units = kwargs['units']\n",
    "            if isinstance(magnitude,numbers.Number):\n",
    "                self.magnitude = ufloat(magnitude,0)\n",
    "            else:\n",
    "                self.magnitude = magnitude\n",
    "                self.units = units\n",
    "            self.value = Q_(self.magnitude, self.units)\n",
    "        if c2:\n",
    "            quantity = kwargs['quantity']\n",
    "            self.value = quantity          \n",
    "        if c3:\n",
    "            limits = kwargs['limits']\n",
    "            self.value = limits \n",
    "        \n",
    "        if c1^c2:\n",
    "            try:\n",
    "                assert self.class_units.dimensionality == self.value.dimensionality\n",
    "            except AssertionError:\n",
    "                raise DimensionalityError(self.class_units.units, self.value.units)\n",
    "\n",
    "    def __eq__(self, other):\n",
    "        try:\n",
    "            x = self.value.to_base_units()\n",
    "            y = other.value.to_base_units()\n",
    "            assert x.units == y.units\n",
    "            assert __zeta__(x.m, y.m)\n",
    "            return True\n",
    "        except:\n",
    "            return False\n",
    "\n",
    "    def __add__(self,other):\n",
    "        try:\n",
    "            return self.value + other.value\n",
    "        except DimensionalityError as exc:\n",
    "            raise exc\n",
    "\n",
    "    def __sub__(self, other):\n",
    "        try:\n",
    "            return self.value - other.value\n",
    "        except DimensionalityError as exc:\n",
    "            raise exc\n",
    "            \n",
    "    def __mul__(self,other):\n",
    "        if isinstance(other, numbers.Number):\n",
    "            return self.value*other\n",
    "        elif isinstance(other, BasicQuantity):\n",
    "            return self.value*other.value\n",
    "\n",
    "    def __rmul__(self,other):\n",
    "        return self.__mul__(other)\n",
    "    \n",
    "    def __pow__(self,n):\n",
    "        return self.value**n\n",
    "        \n",
    "    def __truediv__(self,other):\n",
    "        if isinstance(other, numbers.Number):\n",
    "            return self.value/other\n",
    "        elif isinstance(other, BasicQuantity):\n",
    "            return self.value/other.value\n",
    "        \n",
    "    def __str__(self):\n",
    "        if isinstance(self.value, Limits):\n",
    "            print('>>> Limits')\n",
    "            h = [(x[0].inf,x[0].sup) for x in self.value.value.components]\n",
    "            h = \"&\".join([f\"{x}\\, — {y}\" for x,y in h])\n",
    "            h =  h + '\\\\, '\n",
    "            u = self.units\n",
    "        elif isinstance(self.value, ureg.Quantity):\n",
    "            print('>>> quantity')\n",
    "            if isinstance(self.value.m, np.ndarray):\n",
    "                print('>>> array')\n",
    "                h = list(self.value.m).__str__()\n",
    "                h = \"[\"+\", \".join([f\"{x:.{self.__significant_digits__}u}\" for x in self.value.m])+\"]\"\n",
    "            else:\n",
    "                print('>>> scalar', type(self.value.m))\n",
    "                if isinstance(self.value.m, numbers.Number):\n",
    "                    h = f\"{self.value.m:4.{self.__significant_digits__}g}\"\n",
    "                else:\n",
    "                    if self.value.m.std_dev == 0:\n",
    "                        h = f\"{self.value.m.nominal_value:4.{self.__significant_digits__}g}\"\n",
    "                    else:\n",
    "                        h = f\"{self.value.m:4.{self.__significant_digits__}g}\"\n",
    "            u = self.value.units\n",
    "        s = f\"{self.name} = {h} \\\\, \\\\rm{{[{u}]}}, \\\\, \\\\rm{{({self.__class__.__name__})}}\"\n",
    "        s = s.replace('+/-',r'\\pm')\n",
    "        return s\n",
    "    \n",
    "    def __repr__(self):\n",
    "        s = f\"$${self.__str__()}$$\"\n",
    "        display(Latex(s))\n",
    "        return \"\"\n",
    "    \n",
    "\n",
    "def quantity_maker(klass, units, expression=lambda x:Q_('0')):\n",
    "    return type(klass,(BasicQuantity,),{\"class_units\":Q_(units),'units':units ,'expression':expression})    "
   ]
  },
  {
   "cell_type": "code",
   "execution_count": 24,
   "id": "innovative-confirmation",
   "metadata": {},
   "outputs": [
    {
     "name": "stdout",
     "output_type": "stream",
     "text": [
      ">>> Limits\n",
      "m = 6.0\\, — 7.0\\,  \\, \\rm{[kg]}, \\, \\rm{(Mass)}\n",
      ">>> Limits\n"
     ]
    },
    {
     "data": {
      "text/latex": [
       "$$m = 6.0\\, — 7.0\\,  \\, \\rm{[kg]}, \\, \\rm{(Mass)}$$"
      ],
      "text/plain": [
       "<IPython.core.display.Latex object>"
      ]
     },
     "metadata": {},
     "output_type": "display_data"
    },
    {
     "data": {
      "text/plain": []
     },
     "metadata": {},
     "output_type": "display_data"
    }
   ],
   "source": [
    "Mass = quantity_maker('Mass','kg')\n",
    "m = Mass(name='m', limits=Limits([Q_('6 kg'), Q_('7 kg')]))\n",
    "print(m)\n",
    "display(m)"
   ]
  },
  {
   "cell_type": "code",
   "execution_count": null,
   "id": "aerial-legislature",
   "metadata": {},
   "outputs": [],
   "source": [
    "# custom physical quantities    \n",
    "Mass = quantity_maker('Mass','kg')\n",
    "Time = quantity_maker('Mass','sec')\n",
    "Length = quantity_maker('Length','m')\n",
    "Area = quantity_maker('Area','m^2')\n",
    "Volume = quantity_maker('Volume','m^3')\n",
    "\n",
    "Porosity = quantity_maker('Porosity','m^3/m^3')\n",
    "print(Porosity.units)\n",
    "EffPorosity = quantity_maker('EffPorosity','m^3/m^3')\n",
    "print(EffPorosity.units)"
   ]
  },
  {
   "cell_type": "code",
   "execution_count": null,
   "id": "smooth-berry",
   "metadata": {},
   "outputs": [],
   "source": [
    "Velocity = quantity_maker('Velocity','m/s')\n",
    "@typechecked\n",
    "def speed(name:str, l:Length, dt:Time) -> Velocity:\n",
    "    name = f'{name} = \\\\frac{{{l.name}}}{{{dt.name}}}'\n",
    "    q = l/dt\n",
    "    return Velocity(name = name, quantity = q)\n",
    "\n",
    "Density = quantity_maker('Density','kg/m^3')\n",
    "@typechecked\n",
    "def density(name:str, m:Mass, v:Volume) -> Density:\n",
    "    name = f'{name} = \\\\frac{{{m.name}}}{{{v.name}}}'\n",
    "    return Density(name = name, quantity = (m/v))\n",
    "\n",
    "m = Mass(name='m', magnitude=ufloat(6, 0.1), units='kg')\n",
    "display(m)\n",
    "\n",
    "v = Volume(name='v', quantity=Q_(ufloat(3, 0.2),'m^3'))\n",
    "display(v)\n",
    "\n",
    "rho_1 = density(r'\\rho',m,v)\n",
    "display(rho_1)\n",
    "\n",
    "m2 = Mass(name=r'm_2', magnitude=ufloat(6, 0.1), units='kg')\n",
    "display(m2)\n",
    "\n",
    "rho_2 = density(r'\\rho_2',m2,v)\n",
    "display(rho_2)"
   ]
  },
  {
   "cell_type": "code",
   "execution_count": null,
   "id": "arranged-cooperation",
   "metadata": {},
   "outputs": [],
   "source": [
    "m = Mass(name='m', magnitude=6, units='kg')\n",
    "display(m)"
   ]
  },
  {
   "cell_type": "code",
   "execution_count": null,
   "id": "velvet-making",
   "metadata": {},
   "outputs": [],
   "source": [
    "m0 = Mass(name='m_0', limits=Limits(['2.8 kg','6.07 kg']))\n",
    "m0 = Mass(name='m_0', limits=Limits([Q_('2.8 kg'),Q_('6.07 kg')]))\n",
    "print(m0)\n",
    "v0 = Volume(name='v_0', limits=Limits([Q_('3.21 m^3'),Q_('3.6 m^3')]))\n",
    "print(v0*m0)\n",
    "rho_0 = density(r'\\zeta',m0,v0)\n",
    "display(rho_0)\n",
    "print(rho_0)"
   ]
  },
  {
   "cell_type": "code",
   "execution_count": 35,
   "id": "regional-crime",
   "metadata": {},
   "outputs": [
    {
     "name": "stdout",
     "output_type": "stream",
     "text": [
      ">>> quantity\n",
      ">>> array\n"
     ]
    },
    {
     "data": {
      "text/latex": [
       "$$\\overline{m} = [3.000\\pm0.100, 4.000\\pm0.200] \\, \\rm{[kg]}, \\, \\rm{(Mass)}$$"
      ],
      "text/plain": [
       "<IPython.core.display.Latex object>"
      ]
     },
     "metadata": {},
     "output_type": "display_data"
    },
    {
     "data": {
      "text/plain": []
     },
     "metadata": {},
     "output_type": "display_data"
    }
   ],
   "source": [
    "r = Mass(r'\\overline{m}',quantity=Q_(np.array([ufloat(3,0.1),ufloat(4,0.2)]),'kg'))\n",
    "display(r)"
   ]
  },
  {
   "cell_type": "code",
   "execution_count": null,
   "id": "front-scholarship",
   "metadata": {},
   "outputs": [],
   "source": [
    "m_vec = Mass(r'\\bar{m}',quantity=Q_(np.array([ufloat(3,0.1),ufloat(4,0.2)]),'kg'))\n",
    "v_vec = Volume(r'\\bar{v}',quantity=Q_(np.array([ufloat(3,0.1),ufloat(4,0.2)]),'m^3'))\n",
    "r_vec = density(r'\\bar{\\rho}',m_vec,v_vec)\n",
    "display(r_vec)"
   ]
  },
  {
   "cell_type": "code",
   "execution_count": null,
   "id": "severe-catering",
   "metadata": {},
   "outputs": [],
   "source": [
    "def mag_in(x:ureg.Quantity, u:str)->float:\n",
    "    return float(x.value.to(u).m)\n",
    "\n",
    "Permittivity = quantity_maker('Permittivity','1')\n",
    "@typechecked\n",
    "def dryrock_permittivity(name:str, rho:Density) -> Permittivity:\n",
    "    # formula 1.91**rho\n",
    "    # rho must be in gr/cm^3\n",
    "    #     r = rho.to('g/cm^3').m\n",
    "    r = mag_in(rho,'g/cm^3')\n",
    "    name = f'\\kappa = 1.91^{rho.name}'\n",
    "    return Permittivity(name=name,magnitude=1.91**r,units='')\n",
    "rho = Density(name=r'{\\rho_0}', quantity=Q_('2.32 g/cm^3'))\n",
    "mag_in(rho,'g/cm^3')\n",
    "\n",
    "k_quartz = dryrock_permittivity('\\kappa' , rho)\n",
    "k_quartz_measured = 4.30 # https://academic.oup.com/gji/article/163/3/1195/2127261\n",
    "display(k_quartz)"
   ]
  },
  {
   "cell_type": "code",
   "execution_count": null,
   "id": "occasional-bubble",
   "metadata": {},
   "outputs": [],
   "source": [
    "Permittivity = quantity_maker('Permittivity','1')\n",
    "@typechecked\n",
    "def dryrock_permittivity(name:str, rho:Density) -> Permittivity:\n",
    "    name = f'\\kappa = exp(\\\\frac{{{rho.name}}}{{1.5455 [g/cm^3]}})'\n",
    "    rho_ref = Density('',quantity = Q_('1.5455 g/cm^3'))\n",
    "    p = np.exp(rho / rho_ref)\n",
    "    return Permittivity(name=name,magnitude=p,units='')\n",
    "rho = Density(name=r'{\\rho_0}', quantity=Q_('2.32 g/cm^3'))\n",
    "\n",
    "k_quartz = dryrock_permittivity('\\kappa' , rho)\n",
    "k_quartz_measured = 4.30 # https://academic.oup.com/gji/article/163/3/1195/2127261\n",
    "display(k_quartz)"
   ]
  },
  {
   "cell_type": "code",
   "execution_count": null,
   "id": "normal-wilson",
   "metadata": {},
   "outputs": [],
   "source": [
    "BulkModulus = quantity_maker('BulkModulus','Pa')\n",
    "ShearModulus = quantity_maker('ShearModulus','Pa')\n",
    "\n",
    "from dataclasses import dataclass\n",
    "@dataclass\n",
    "class Mineral:\n",
    "    density: Density\n",
    "    bulk_modulus: BulkModulus\n",
    "    shear_modulus: ShearModulus\n",
    "\n",
    "@dataclass\n",
    "class Composition:\n",
    "    composition: list(float)\n",
    "        \n",
    "class MineralComposition(Composition):\n",
    "    composition: list(Mineral)\n",
    "    \n",
    "@dataclass\n",
    "class Fluid:\n",
    "    density:\n",
    "    viscosity:\n",
    "        \n",
    "@dataclass\n",
    "class Rock:\n",
    "    mineral_composition: MineralComposition\n",
    "    fluid_composition: FluidComposition\n",
    "    compressional_velocity: \n",
    "        \n",
    "\n",
    "@typechecked"
   ]
  },
  {
   "cell_type": "code",
   "execution_count": null,
   "id": "accepted-trout",
   "metadata": {},
   "outputs": [],
   "source": []
  }
 ],
 "metadata": {
  "kernelspec": {
   "display_name": "Python 3",
   "language": "python",
   "name": "python3"
  },
  "language_info": {
   "codemirror_mode": {
    "name": "ipython",
    "version": 3
   },
   "file_extension": ".py",
   "mimetype": "text/x-python",
   "name": "python",
   "nbconvert_exporter": "python",
   "pygments_lexer": "ipython3",
   "version": "3.9.0"
  }
 },
 "nbformat": 4,
 "nbformat_minor": 5
}
