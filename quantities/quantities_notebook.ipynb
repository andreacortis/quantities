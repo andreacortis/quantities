{
 "cells": [
  {
   "cell_type": "code",
   "execution_count": 1,
   "id": "ecological-flower",
   "metadata": {},
   "outputs": [],
   "source": [
    "import numpy as np\n",
    "from typeguard import typechecked\n",
    "from decimal import Decimal\n",
    "from IPython.display import display, Latex\n",
    "import numbers\n",
    "from uncertainties import ufloat\n",
    "import uncertainties\n",
    "from pint import UnitRegistry, DimensionalityError\n",
    "ureg = UnitRegistry(non_int_type=Decimal)\n",
    "ureg.default_format = \"~P\"\n",
    "Q_=ureg.Quantity\n",
    "\n",
    "esc = lambda s: s.replace('\"\\\"','\"\\\\\"')\n",
    "\n",
    "from interval import interval, inf, imath"
   ]
  },
  {
   "cell_type": "code",
   "execution_count": 2,
   "id": "front-payment",
   "metadata": {},
   "outputs": [],
   "source": [
    "class Limits:\n",
    "    def __init__(self, limits):\n",
    "        lower, upper = limits\n",
    "        try:\n",
    "            assert lower.dimensionality == upper.dimensionality\n",
    "            if not isinstance(lower.m, Decimal):\n",
    "                assert lower.m.std_dev == 0\n",
    "            if not isinstance(upper.m, Decimal):\n",
    "                assert upper.m.std_dev == 0\n",
    "        except DimensionalityError as exc:\n",
    "            raise exc\n",
    "        lower.ito_base_units()\n",
    "        upper.ito_base_units()\n",
    "        self.value = interval([lower.m, upper.m])\n",
    "        self.units = lower.units\n",
    "    \n",
    "    def __mul__(self,other):\n",
    "        if isinstance(other, numbers.Number):\n",
    "            return self.value*other\n",
    "        elif isinstance(other, Limits):\n",
    "            return self.value*other.value\n",
    "\n",
    "    def __rmul__(self,other):\n",
    "        return self.__mul__(other)\n",
    "    \n",
    "    def __truediv__(self,other):\n",
    "        if isinstance(other, numbers.Number):\n",
    "            return self.value/other\n",
    "        elif isinstance(other, Limits):\n",
    "            return self.value/other.value\n",
    "        \n",
    "    def __repr__(self):\n",
    "        return self.value.__str__() + self.units.__str__()\n",
    "l = Limits([Q_('2 kg'),Q_('6 kg')])"
   ]
  },
  {
   "cell_type": "code",
   "execution_count": 3,
   "id": "roman-viking",
   "metadata": {},
   "outputs": [],
   "source": [
    "I = interval([0,1])"
   ]
  },
  {
   "cell_type": "code",
   "execution_count": 23,
   "id": "wrong-sleeping",
   "metadata": {},
   "outputs": [],
   "source": [
    "class BasicQuantity:\n",
    "    units = '1'\n",
    "    class_units = Q_(f\"{units}\")\n",
    "    def __init__(self, name=\"\", **kwargs):\n",
    "        c1 = set(kwargs.keys()) == {'magnitude','units'}\n",
    "        c2 = set(kwargs.keys()) == {'quantity'}\n",
    "        c3 = set(kwargs.keys()) == {'limits'}\n",
    "        self.name = name\n",
    "        \n",
    "        assert c1 ^ c2 ^ c3\n",
    "        if c1:\n",
    "            magnitude = kwargs['magnitude']\n",
    "            units = kwargs['units']\n",
    "            if isinstance(magnitude,numbers.Number):\n",
    "                self.magnitude = ufloat(magnitude,0)\n",
    "            else:\n",
    "                self.magnitude = magnitude\n",
    "                self.units = units\n",
    "            self.value = Q_(self.magnitude, self.units)\n",
    "        if c2:\n",
    "            quantity = kwargs['quantity']\n",
    "            self.value = quantity          \n",
    "        if c3:\n",
    "            limits = kwargs['limits']\n",
    "            self.value = limits \n",
    "            \n",
    "#         try:\n",
    "#             if c1 or c2:\n",
    "#                 self.value.to(self.class_units)\n",
    "#         except DimensionalityError as exc:\n",
    "#             raise exc\n",
    "\n",
    "    def __add__(self,other):\n",
    "        try:\n",
    "            return self.value + other.value\n",
    "        except DimensionalityError as exc:\n",
    "            raise exc\n",
    "\n",
    "    def __sub__(self, other):\n",
    "        try:\n",
    "            return self.value - other.value\n",
    "        except DimensionalityError as exc:\n",
    "            raise exc\n",
    "            \n",
    "    def __mul__(self,other):\n",
    "        if isinstance(other, numbers.Number):\n",
    "            return self.value*other\n",
    "        elif isinstance(other, BasicQuantity):\n",
    "            return self.value*other.value\n",
    "\n",
    "    def __rmul__(self,other):\n",
    "        return self.__mul__(other)\n",
    "    \n",
    "    def __pow__(self,n):\n",
    "        return self.value**n\n",
    "        \n",
    "    def __truediv__(self,other):\n",
    "        if isinstance(other, numbers.Number):\n",
    "            return self.value/other\n",
    "        elif isinstance(other, BasicQuantity):\n",
    "            return self.value/other.value\n",
    "        \n",
    "    def __str__(self):\n",
    "        if isinstance(self.value, interval):\n",
    "            h = self.value.__str__()\n",
    "            u = self.units\n",
    "        else:\n",
    "            h = self.value.m\n",
    "            u = self.value.units\n",
    "        s = f\"{self.name} = {h} \\\\, \\\\rm{{[{u}]}}, \\\\, \\\\rm{{({self.__class__.__name__})}}\"\n",
    "        s = s.replace('+/-',r'\\pm')\n",
    "        return s\n",
    "    \n",
    "    def __repr__(self):\n",
    "        s = f\"$${self.__str__()}$$\"\n",
    "        display(Latex(s))\n",
    "        return \"\"\n",
    "\n",
    "def quantity_maker(klass, units, expression=lambda x:Q_('0')):\n",
    "    return type(klass,(BasicQuantity,),{\"class_units\":Q_(units),'units':units ,'expression':expression})\n",
    "    \n"
   ]
  },
  {
   "cell_type": "code",
   "execution_count": 24,
   "id": "smooth-berry",
   "metadata": {},
   "outputs": [
    {
     "name": "stdout",
     "output_type": "stream",
     "text": [
      "m^3/m^3\n"
     ]
    },
    {
     "data": {
      "text/latex": [
       "$$m = 6.00\\pm0.10 \\, \\rm{[kg]}, \\, \\rm{(Mass)}$$"
      ],
      "text/plain": [
       "<IPython.core.display.Latex object>"
      ]
     },
     "metadata": {},
     "output_type": "display_data"
    },
    {
     "data": {
      "text/plain": []
     },
     "metadata": {},
     "output_type": "display_data"
    },
    {
     "data": {
      "text/latex": [
       "$$v = 3.00\\pm0.20 \\, \\rm{[m³]}, \\, \\rm{(Volume)}$$"
      ],
      "text/plain": [
       "<IPython.core.display.Latex object>"
      ]
     },
     "metadata": {},
     "output_type": "display_data"
    },
    {
     "data": {
      "text/plain": []
     },
     "metadata": {},
     "output_type": "display_data"
    },
    {
     "data": {
      "text/latex": [
       "$$\\zeta = \\frac{m}{v} = 2.00\\pm0.14 \\, \\rm{[kg/m³]}, \\, \\rm{(Density)}$$"
      ],
      "text/plain": [
       "<IPython.core.display.Latex object>"
      ]
     },
     "metadata": {},
     "output_type": "display_data"
    },
    {
     "data": {
      "text/plain": []
     },
     "metadata": {},
     "output_type": "display_data"
    },
    {
     "data": {
      "text/latex": [
       "$$m_2 = 6.00\\pm0.10 \\, \\rm{[kg]}, \\, \\rm{(Mass)}$$"
      ],
      "text/plain": [
       "<IPython.core.display.Latex object>"
      ]
     },
     "metadata": {},
     "output_type": "display_data"
    },
    {
     "data": {
      "text/plain": []
     },
     "metadata": {},
     "output_type": "display_data"
    },
    {
     "data": {
      "text/latex": [
       "$$\\rho_2 = \\frac{m_2}{v} = 2.00\\pm0.14 \\, \\rm{[kg/m³]}, \\, \\rm{(Density)}$$"
      ],
      "text/plain": [
       "<IPython.core.display.Latex object>"
      ]
     },
     "metadata": {},
     "output_type": "display_data"
    },
    {
     "data": {
      "text/plain": []
     },
     "metadata": {},
     "output_type": "display_data"
    }
   ],
   "source": [
    "# custom physical quanti    \n",
    "Mass = quantity_maker('Mass','kg')\n",
    "Time = quantity_maker('Mass','sec')\n",
    "Length = quantity_maker('Length','m')\n",
    "Area = quantity_maker('Area','m^2')\n",
    "Volume = quantity_maker('Volume','m^3')\n",
    "\n",
    "Porosity = quantity_maker('Porosity','m^3/m^3')\n",
    "print(Porosity.units)\n",
    "\n",
    "Velocity = quantity_maker('Velocity','m/s')\n",
    "@typechecked\n",
    "def speed(name:str, l:Length, dt:Time) -> Velocity:\n",
    "    name = f'{name} = \\\\frac{{{l.name}}}{{{dt.name}}}'\n",
    "    return Velocity(name = name, quantity = (l/dt))\n",
    "\n",
    "Density = quantity_maker('Density','kg/m^3')\n",
    "@typechecked\n",
    "def density(name:str, m:Mass, v:Volume) -> Density:\n",
    "    name = f'{name} = \\\\frac{{{m.name}}}{{{v.name}}}'\n",
    "    return Density(name = name, quantity = (m/v))\n",
    "\n",
    "m = Mass(name='m', magnitude=ufloat(6, 0.1), units='kg')\n",
    "display(m)\n",
    "\n",
    "v = Volume(name='v', quantity=Q_(ufloat(3, 0.2),'m^3'))\n",
    "display(v)\n",
    "\n",
    "rho_1 = density(r'\\zeta',m,v)\n",
    "display(rho_1)\n",
    "\n",
    "m2 = Mass(name=r'm_2', magnitude=ufloat(6, 0.1), units='kg')\n",
    "display(m2)\n",
    "\n",
    "rho_2 = density(r'\\rho_2',m2,v)\n",
    "display(rho_2)"
   ]
  },
  {
   "cell_type": "code",
   "execution_count": 28,
   "id": "velvet-making",
   "metadata": {},
   "outputs": [
    {
     "name": "stdout",
     "output_type": "stream",
     "text": [
      "interval([8.987999999999998, 21.852000000000004])\n"
     ]
    },
    {
     "data": {
      "text/latex": [
       "$$\\zeta = \\frac{m_0}{v_0} = interval([0.7777777777777776, 1.8909657320872277]) \\, \\rm{[kg/m^3]}, \\, \\rm{(Density)}$$"
      ],
      "text/plain": [
       "<IPython.core.display.Latex object>"
      ]
     },
     "metadata": {},
     "output_type": "display_data"
    },
    {
     "data": {
      "text/plain": []
     },
     "metadata": {},
     "output_type": "display_data"
    }
   ],
   "source": [
    "m0 = Mass(name='m_0', limits=Limits([Q_('2.8 kg'),Q_('6.07 kg')]))\n",
    "v0 = Volume(name='v_0', limits=Limits([Q_('3.21 m^3'),Q_('3.6 m^3')]))\n",
    "print(v0*m0)\n",
    "rho_0 = density(r'\\zeta',m0,v0)\n",
    "display(rho_0)"
   ]
  },
  {
   "cell_type": "code",
   "execution_count": null,
   "id": "marked-jacob",
   "metadata": {},
   "outputs": [],
   "source": [
    "Stress = quantity_maker('Stress','kg/m^3')\n",
    "\n",
    "@dataclass\n",
    "class Mineral:\n",
    "    density: Density\n",
    "    bulk_modulus: Stress\n",
    "        \n",
    "@dataclass\n",
    "class Rock:\n",
    "    minerals: list[Mineral]    \n",
    "\n",
    "quartz = Mineral()\n",
    "calcite = Mineral()\n",
    "dolomite = Mineral()\n",
    "\n",
    "dolomite = Rock([1,2,3])\n",
    "print(dolomite)"
   ]
  },
  {
   "cell_type": "code",
   "execution_count": null,
   "id": "interracial-influence",
   "metadata": {},
   "outputs": [],
   "source": []
  }
 ],
 "metadata": {
  "kernelspec": {
   "display_name": "Python 3",
   "language": "python",
   "name": "python3"
  },
  "language_info": {
   "codemirror_mode": {
    "name": "ipython",
    "version": 3
   },
   "file_extension": ".py",
   "mimetype": "text/x-python",
   "name": "python",
   "nbconvert_exporter": "python",
   "pygments_lexer": "ipython3",
   "version": "3.9.0"
  }
 },
 "nbformat": 4,
 "nbformat_minor": 5
}
